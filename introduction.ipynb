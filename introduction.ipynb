{
 "cells": [
  {
   "cell_type": "markdown",
   "id": "54715e57",
   "metadata": {},
   "source": [
    "# Manipulating alert data"
   ]
  },
  {
   "cell_type": "code",
   "execution_count": 1,
   "id": "9baefa81",
   "metadata": {},
   "outputs": [],
   "source": [
    "import requests\n",
    "import io, gzip\n",
    "\n",
    "import pandas as pd\n",
    "import numpy as np\n",
    "\n",
    "from astropy.io import fits\n",
    "\n",
    "import matplotlib.pyplot as plt\n",
    "import seaborn as sns\n",
    "sns.set_context('talk')\n",
    "\n",
    "APIURL = 'https://fink-portal.org'"
   ]
  },
  {
   "cell_type": "markdown",
   "id": "5d24bfad",
   "metadata": {},
   "source": [
    "## Loading data\n",
    "\n",
    "Alert data for the notebooks are in parquet format. You can easily load them using Pandas:"
   ]
  },
  {
   "cell_type": "code",
   "execution_count": 2,
   "id": "4c68a26e",
   "metadata": {},
   "outputs": [
    {
     "name": "stdout",
     "output_type": "stream",
     "text": [
      "96 alerts loaded (63 unique objects)\n"
     ]
    }
   ],
   "source": [
    "pdf_kn_lc = pd.read_parquet('data/0104_3108_kn_filter1_class.parquet')\n",
    "\n",
    "nalerts_kn_lc = len(pdf_kn_lc)\n",
    "nunique_alerts_kn_lc = len(np.unique(pdf_kn_lc['objectId']))\n",
    "\n",
    "print(\n",
    "    '{} alerts loaded ({} unique objects)'.format(\n",
    "        nalerts_kn_lc, \n",
    "        nunique_alerts_kn_lc\n",
    "    )\n",
    ")"
   ]
  },
  {
   "cell_type": "markdown",
   "id": "a1d71123",
   "metadata": {},
   "source": [
    "How to inspect the data?"
   ]
  },
  {
   "cell_type": "code",
   "execution_count": 3,
   "id": "2eb57f62",
   "metadata": {},
   "outputs": [
    {
     "data": {
      "text/html": [
       "<div>\n",
       "<style scoped>\n",
       "    .dataframe tbody tr th:only-of-type {\n",
       "        vertical-align: middle;\n",
       "    }\n",
       "\n",
       "    .dataframe tbody tr th {\n",
       "        vertical-align: top;\n",
       "    }\n",
       "\n",
       "    .dataframe thead th {\n",
       "        text-align: right;\n",
       "    }\n",
       "</style>\n",
       "<table border=\"1\" class=\"dataframe\">\n",
       "  <thead>\n",
       "    <tr style=\"text-align: right;\">\n",
       "      <th></th>\n",
       "      <th>schemavsn</th>\n",
       "      <th>publisher</th>\n",
       "      <th>objectId</th>\n",
       "      <th>candid</th>\n",
       "      <th>candidate</th>\n",
       "      <th>prv_candidates</th>\n",
       "      <th>cutoutScience</th>\n",
       "      <th>cutoutTemplate</th>\n",
       "      <th>cutoutDifference</th>\n",
       "      <th>timestamp</th>\n",
       "      <th>...</th>\n",
       "      <th>day</th>\n",
       "      <th>cjdc</th>\n",
       "      <th>cfidc</th>\n",
       "      <th>cmagpsfc</th>\n",
       "      <th>csigmapsfc</th>\n",
       "      <th>cmagnrc</th>\n",
       "      <th>csigmagnrc</th>\n",
       "      <th>cmagzpscic</th>\n",
       "      <th>cisdiffposc</th>\n",
       "      <th>TNS</th>\n",
       "    </tr>\n",
       "  </thead>\n",
       "  <tbody>\n",
       "    <tr>\n",
       "      <th>0</th>\n",
       "      <td>3.3</td>\n",
       "      <td>Fink</td>\n",
       "      <td>ZTF21abvrrir</td>\n",
       "      <td>1701264402515015016</td>\n",
       "      <td>{'aimage': 0.7039999961853027, 'aimagerat': 0....</td>\n",
       "      <td>[{'aimage': None, 'aimagerat': None, 'bimage':...</td>\n",
       "      <td>{'fileName': 'candid1701264402515015016_pid170...</td>\n",
       "      <td>{'fileName': 'candid1701264402515015016_ref.fi...</td>\n",
       "      <td>{'fileName': 'candid1701264402515015016_pid170...</td>\n",
       "      <td>2021-08-29 06:20:44.998075</td>\n",
       "      <td>...</td>\n",
       "      <td>29</td>\n",
       "      <td>[2459426.8683912, 2459428.8301273, 2459428.872...</td>\n",
       "      <td>[1, 1, 2, 1, 1, 2, 1, 1, 1, 2, 2, 2, 1, 2, 1, 2]</td>\n",
       "      <td>[nan, nan, nan, nan, nan, nan, nan, nan, nan, ...</td>\n",
       "      <td>[nan, nan, nan, nan, nan, nan, nan, nan, nan, ...</td>\n",
       "      <td>[nan, nan, nan, nan, nan, nan, nan, nan, nan, ...</td>\n",
       "      <td>[nan, nan, nan, nan, nan, nan, nan, nan, nan, ...</td>\n",
       "      <td>[26.31089973449707, 26.323999404907227, 26.343...</td>\n",
       "      <td>[None, None, None, None, None, None, None, Non...</td>\n",
       "      <td></td>\n",
       "    </tr>\n",
       "  </tbody>\n",
       "</table>\n",
       "<p>1 rows × 32 columns</p>\n",
       "</div>"
      ],
      "text/plain": [
       "  schemavsn publisher      objectId               candid  \\\n",
       "0       3.3      Fink  ZTF21abvrrir  1701264402515015016   \n",
       "\n",
       "                                           candidate  \\\n",
       "0  {'aimage': 0.7039999961853027, 'aimagerat': 0....   \n",
       "\n",
       "                                      prv_candidates  \\\n",
       "0  [{'aimage': None, 'aimagerat': None, 'bimage':...   \n",
       "\n",
       "                                       cutoutScience  \\\n",
       "0  {'fileName': 'candid1701264402515015016_pid170...   \n",
       "\n",
       "                                      cutoutTemplate  \\\n",
       "0  {'fileName': 'candid1701264402515015016_ref.fi...   \n",
       "\n",
       "                                    cutoutDifference  \\\n",
       "0  {'fileName': 'candid1701264402515015016_pid170...   \n",
       "\n",
       "                   timestamp  ... day  \\\n",
       "0 2021-08-29 06:20:44.998075  ...  29   \n",
       "\n",
       "                                                cjdc  \\\n",
       "0  [2459426.8683912, 2459428.8301273, 2459428.872...   \n",
       "\n",
       "                                              cfidc  \\\n",
       "0  [1, 1, 2, 1, 1, 2, 1, 1, 1, 2, 2, 2, 1, 2, 1, 2]   \n",
       "\n",
       "                                            cmagpsfc  \\\n",
       "0  [nan, nan, nan, nan, nan, nan, nan, nan, nan, ...   \n",
       "\n",
       "                                          csigmapsfc  \\\n",
       "0  [nan, nan, nan, nan, nan, nan, nan, nan, nan, ...   \n",
       "\n",
       "                                             cmagnrc  \\\n",
       "0  [nan, nan, nan, nan, nan, nan, nan, nan, nan, ...   \n",
       "\n",
       "                                          csigmagnrc  \\\n",
       "0  [nan, nan, nan, nan, nan, nan, nan, nan, nan, ...   \n",
       "\n",
       "                                          cmagzpscic  \\\n",
       "0  [26.31089973449707, 26.323999404907227, 26.343...   \n",
       "\n",
       "                                         cisdiffposc TNS  \n",
       "0  [None, None, None, None, None, None, None, Non...      \n",
       "\n",
       "[1 rows x 32 columns]"
      ]
     },
     "execution_count": 3,
     "metadata": {},
     "output_type": "execute_result"
    }
   ],
   "source": [
    "pdf_kn_lc.head(1)"
   ]
  },
  {
   "cell_type": "markdown",
   "id": "a0638d5a",
   "metadata": {},
   "source": [
    "Top level fields can be accessed as usual, e.g. the object ID:"
   ]
  },
  {
   "cell_type": "code",
   "execution_count": 4,
   "id": "73583dd7",
   "metadata": {},
   "outputs": [
    {
     "data": {
      "text/plain": [
       "0     ZTF21abvrrir\n",
       "1     ZTF21absmlzd\n",
       "2     ZTF21abbkglo\n",
       "3     ZTF21abdveqn\n",
       "4     ZTF21abbkglo\n",
       "          ...     \n",
       "91    ZTF21aatlesr\n",
       "92    ZTF21abdgaly\n",
       "93    ZTF21abdgall\n",
       "94    ZTF21abeeewf\n",
       "95    ZTF21aayquba\n",
       "Name: objectId, Length: 96, dtype: object"
      ]
     },
     "execution_count": 4,
     "metadata": {},
     "output_type": "execute_result"
    }
   ],
   "source": [
    "pdf_kn_lc['objectId']"
   ]
  },
  {
   "cell_type": "markdown",
   "id": "5e45440e",
   "metadata": {},
   "source": [
    "Nested fields are dictionary -- so just use:"
   ]
  },
  {
   "cell_type": "code",
   "execution_count": 5,
   "id": "d284c7b7",
   "metadata": {},
   "outputs": [
    {
     "data": {
      "text/plain": [
       "0     330.051893\n",
       "1     289.192781\n",
       "2     235.089039\n",
       "3     302.908051\n",
       "4     235.089041\n",
       "         ...    \n",
       "91    240.887438\n",
       "92    224.138885\n",
       "93    224.080148\n",
       "94    222.865100\n",
       "95    246.302338\n",
       "Name: candidate, Length: 96, dtype: float64"
      ]
     },
     "execution_count": 5,
     "metadata": {},
     "output_type": "execute_result"
    }
   ],
   "source": [
    "# extract Right ascension\n",
    "pdf_kn_lc['candidate'].apply(lambda x: x['ra'])"
   ]
  },
  {
   "cell_type": "markdown",
   "id": "1964e5f6",
   "metadata": {},
   "source": [
    "You can easily get the keys for nested fields using:"
   ]
  },
  {
   "cell_type": "code",
   "execution_count": 6,
   "id": "d36a5ad8",
   "metadata": {},
   "outputs": [
    {
     "data": {
      "text/plain": [
       "dict_keys(['aimage', 'aimagerat', 'bimage', 'bimagerat', 'candid', 'chinr', 'chipsf', 'classtar', 'clrcoeff', 'clrcounc', 'clrmed', 'clrrms', 'dec', 'decnr', 'diffmaglim', 'distnr', 'distpsnr1', 'distpsnr2', 'distpsnr3', 'drb', 'drbversion', 'dsdiff', 'dsnrms', 'elong', 'exptime', 'fid', 'field', 'fwhm', 'isdiffpos', 'jd', 'jdendhist', 'jdendref', 'jdstarthist', 'jdstartref', 'magap', 'magapbig', 'magdiff', 'magfromlim', 'maggaia', 'maggaiabright', 'magnr', 'magpsf', 'magzpsci', 'magzpscirms', 'magzpsciunc', 'mindtoedge', 'nbad', 'ncovhist', 'ndethist', 'neargaia', 'neargaiabright', 'nframesref', 'nid', 'nmatches', 'nmtchps', 'nneg', 'objectidps1', 'objectidps2', 'objectidps3', 'pdiffimfilename', 'pid', 'programid', 'programpi', 'ra', 'ranr', 'rb', 'rbversion', 'rcid', 'rfid', 'scorr', 'seeratio', 'sgmag1', 'sgmag2', 'sgmag3', 'sgscore1', 'sgscore2', 'sgscore3', 'sharpnr', 'sigmagap', 'sigmagapbig', 'sigmagnr', 'sigmapsf', 'simag1', 'simag2', 'simag3', 'sky', 'srmag1', 'srmag2', 'srmag3', 'ssdistnr', 'ssmagnr', 'ssnamenr', 'ssnrms', 'sumrat', 'szmag1', 'szmag2', 'szmag3', 'tblid', 'tooflag', 'xpos', 'ypos', 'zpclrcov', 'zpmed'])"
      ]
     },
     "execution_count": 6,
     "metadata": {},
     "output_type": "execute_result"
    }
   ],
   "source": [
    "pdf_kn_lc['candidate'].apply(lambda x: x.keys()).values[0]"
   ]
  },
  {
   "cell_type": "markdown",
   "id": "4aaa069c",
   "metadata": {},
   "source": [
    "## Visualising data\n",
    "\n",
    "You can also benefit from the Fink Portal for visual inspection:"
   ]
  },
  {
   "cell_type": "code",
   "execution_count": 7,
   "id": "a540dd40",
   "metadata": {},
   "outputs": [
    {
     "data": {
      "text/plain": [
       "0     https://fink-portal.org/ZTF21abvrrir\n",
       "1     https://fink-portal.org/ZTF21absmlzd\n",
       "2     https://fink-portal.org/ZTF21abbkglo\n",
       "3     https://fink-portal.org/ZTF21abdveqn\n",
       "4     https://fink-portal.org/ZTF21abbkglo\n",
       "                      ...                 \n",
       "91    https://fink-portal.org/ZTF21aatlesr\n",
       "92    https://fink-portal.org/ZTF21abdgaly\n",
       "93    https://fink-portal.org/ZTF21abdgall\n",
       "94    https://fink-portal.org/ZTF21abeeewf\n",
       "95    https://fink-portal.org/ZTF21aayquba\n",
       "Name: objectId, Length: 96, dtype: object"
      ]
     },
     "execution_count": 7,
     "metadata": {},
     "output_type": "execute_result"
    }
   ],
   "source": [
    "pdf_kn_lc['objectId'].apply(lambda x: '{}/{}'.format(APIURL, x))"
   ]
  },
  {
   "cell_type": "markdown",
   "id": "65f4dce1",
   "metadata": {},
   "source": [
    "## Accessing object data\n",
    "\n",
    "We present here `alert` data, that is the data sent from one trigger at a time. But an object on the sky can emit several alerts, and if you want the aggregated data for an object (that is the data from all the alerts), you can use the Fink API:"
   ]
  },
  {
   "cell_type": "code",
   "execution_count": 8,
   "id": "334b6cfa",
   "metadata": {},
   "outputs": [],
   "source": [
    "oid = pdf_kn_lc['objectId'].values[0]\n",
    "\n",
    "r = requests.post(\n",
    "  '{}/api/v1/objects'.format(APIURL),\n",
    "  json={\n",
    "    'objectId': oid,\n",
    "    'withupperlim': 'True'\n",
    "  }\n",
    ")\n",
    "\n",
    "pdf = pd.read_json(r.content)"
   ]
  },
  {
   "cell_type": "markdown",
   "id": "bdab6249",
   "metadata": {},
   "source": [
    "and plot the data"
   ]
  },
  {
   "cell_type": "code",
   "execution_count": 9,
   "id": "0a3d2cd4",
   "metadata": {},
   "outputs": [
    {
     "data": {
      "image/png": "[encoded data removed]",
      "text/plain": [
       "<Figure size 1080x432 with 1 Axes>"
      ]
     },
     "metadata": {
      "needs_background": "light"
     },
     "output_type": "display_data"
    },
    {
     "name": "stdout",
     "output_type": "stream",
     "text": [
      "https://fink-portal.org/ZTF21abvrrir\n"
     ]
    }
   ],
   "source": [
    "fig = plt.figure(figsize=(15, 6))\n",
    "\n",
    "colordic = {1: 'C0', 2: 'C1'}\n",
    "\n",
    "for filt in np.unique(pdf['i:fid']):\n",
    "    maskFilt = pdf['i:fid'] == filt\n",
    "\n",
    "    # The column `d:tag` is used to check data type\n",
    "    maskValid = pdf['d:tag'] == 'valid'\n",
    "    plt.errorbar(\n",
    "        pdf[maskValid & maskFilt]['i:jd'].apply(lambda x: x - 2400000.5),\n",
    "        pdf[maskValid & maskFilt]['i:magpsf'],\n",
    "        pdf[maskValid & maskFilt]['i:sigmapsf'],\n",
    "        ls = '', marker='o', color=colordic[filt]\n",
    "    )\n",
    "\n",
    "    maskUpper = pdf['d:tag'] == 'upperlim'\n",
    "    plt.plot(\n",
    "        pdf[maskUpper & maskFilt]['i:jd'].apply(lambda x: x - 2400000.5),\n",
    "        pdf[maskUpper & maskFilt]['i:diffmaglim'],\n",
    "        ls='', marker='^', color=colordic[filt], markerfacecolor='none'\n",
    "    )\n",
    "\n",
    "    maskBadquality = pdf['d:tag'] == 'badquality'\n",
    "    plt.errorbar(\n",
    "        pdf[maskBadquality & maskFilt]['i:jd'].apply(lambda x: x - 2400000.5),\n",
    "        pdf[maskBadquality & maskFilt]['i:magpsf'],\n",
    "        pdf[maskBadquality & maskFilt]['i:sigmapsf'],\n",
    "        ls='', marker='v', color=colordic[filt]\n",
    "    )\n",
    "\n",
    "plt.gca().invert_yaxis()\n",
    "plt.xlabel('Modified Julian Date')\n",
    "plt.ylabel('Magnitude')\n",
    "plt.title('{}'.format(oid))\n",
    "plt.show()\n",
    "print('{}/{}'.format(APIURL, oid))"
   ]
  },
  {
   "cell_type": "markdown",
   "id": "654fb261",
   "metadata": {},
   "source": [
    "More information on the Fink API at [http://134.158.75.151:24000/api](http://134.158.75.151:24000/api)"
   ]
  },
  {
   "cell_type": "markdown",
   "id": "be43633c",
   "metadata": {},
   "source": [
    "##  Further links\n",
    "\n",
    "- ZTF alert schema can be found at: https://zwickytransientfacility.github.io/ztf-avro-alert/schema.html\n",
    "- Fink alert schema (which includes the ZTF one plus additional fields) can be found at: https://fink-portal.org/api/v1/columns"
   ]
  },
  {
   "cell_type": "code",
   "execution_count": null,
   "id": "adbf66e1",
   "metadata": {},
   "outputs": [],
   "source": []
  }
 ],
 "metadata": {
  "kernelspec": {
   "display_name": "Python 3",
   "language": "python",
   "name": "python3"
  },
  "language_info": {
   "codemirror_mode": {
    "name": "ipython",
    "version": 3
   },
   "file_extension": ".py",
   "mimetype": "text/x-python",
   "name": "python",
   "nbconvert_exporter": "python",
   "pygments_lexer": "ipython3",
   "version": "3.7.11"
  }
 },
 "nbformat": 4,
 "nbformat_minor": 5
}
